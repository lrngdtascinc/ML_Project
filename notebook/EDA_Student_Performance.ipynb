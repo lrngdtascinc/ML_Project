{
 "cells": [
  {
   "cell_type": "markdown",
   "id": "fdf4df9a",
   "metadata": {},
   "source": [
    "# Student Performance Indicator"
   ]
  },
  {
   "cell_type": "markdown",
   "id": "dcf919b6-8855-49e2-9b3a-875c9443b3e8",
   "metadata": {},
   "source": [
    "### LIfe Cycle of a Machine Learning Project"
   ]
  },
  {
   "cell_type": "markdown",
   "id": "d1019932",
   "metadata": {},
   "source": [
    "* Understanding the Problem Statement\n",
    "* Data Collection \n",
    "* Data Validation\n",
    "* Exploratory Data Analysis \n",
    "* Data Pre-Processing\n",
    "* Model Training\n",
    "* Choose Best Model"
   ]
  },
  {
   "cell_type": "markdown",
   "id": "ecb971e1",
   "metadata": {},
   "source": [
    "## 1.) Problem Statement"
   ]
  },
  {
   "cell_type": "markdown",
   "id": "58578b7c",
   "metadata": {},
   "source": [
    "* This project understands how the student's performance (test scores) is affected by the other variables such as Gender, Ethnicity, Parental level of education, Lunch, and Test preparation course."
   ]
  },
  {
   "cell_type": "markdown",
   "id": "e5c05bd6",
   "metadata": {},
   "source": [
    "## 2.) Data Collection"
   ]
  },
  {
   "cell_type": "markdown",
   "id": "108c8451",
   "metadata": {},
   "source": [
    "* Data Source - https://www.kaggle.com/datasets/spscientist/students-performance-in-exams?datasetId=74977\n",
    "* The data consists of * columns and 1000 rows. "
   ]
  },
  {
   "cell_type": "markdown",
   "id": "926551dc",
   "metadata": {},
   "source": [
    "## 2.1) Import Data and Required Packages"
   ]
  },
  {
   "cell_type": "code",
   "execution_count": 23,
   "id": "0ccd68dd",
   "metadata": {},
   "outputs": [],
   "source": [
    "#Import Dependencies \n",
    "import numpy as np\n",
    "import pandas as pd\n",
    "import seaborn as sns\n",
    "import matplotlib.pyplot as plt\n",
    "%matplotlib inline\n",
    "import warnings\n",
    "warnings.filterwarnings('ignore')"
   ]
  },
  {
   "cell_type": "markdown",
   "id": "07fb5a12",
   "metadata": {},
   "source": [
    "## Extract CSV Data into Pandas Dataframe"
   ]
  },
  {
   "cell_type": "code",
   "execution_count": 24,
   "id": "b7bddef4",
   "metadata": {},
   "outputs": [
    {
     "data": {
      "text/html": [
       "<div>\n",
       "<style scoped>\n",
       "    .dataframe tbody tr th:only-of-type {\n",
       "        vertical-align: middle;\n",
       "    }\n",
       "\n",
       "    .dataframe tbody tr th {\n",
       "        vertical-align: top;\n",
       "    }\n",
       "\n",
       "    .dataframe thead th {\n",
       "        text-align: right;\n",
       "    }\n",
       "</style>\n",
       "<table border=\"1\" class=\"dataframe\">\n",
       "  <thead>\n",
       "    <tr style=\"text-align: right;\">\n",
       "      <th></th>\n",
       "      <th>gender</th>\n",
       "      <th>race_ethnicity</th>\n",
       "      <th>parental_level_of_education</th>\n",
       "      <th>lunch</th>\n",
       "      <th>test_preparation_course</th>\n",
       "      <th>math_score</th>\n",
       "      <th>reading_score</th>\n",
       "      <th>writing_score</th>\n",
       "    </tr>\n",
       "  </thead>\n",
       "  <tbody>\n",
       "    <tr>\n",
       "      <th>0</th>\n",
       "      <td>female</td>\n",
       "      <td>group B</td>\n",
       "      <td>bachelor's degree</td>\n",
       "      <td>standard</td>\n",
       "      <td>none</td>\n",
       "      <td>72</td>\n",
       "      <td>72</td>\n",
       "      <td>74</td>\n",
       "    </tr>\n",
       "    <tr>\n",
       "      <th>1</th>\n",
       "      <td>female</td>\n",
       "      <td>group C</td>\n",
       "      <td>some college</td>\n",
       "      <td>standard</td>\n",
       "      <td>completed</td>\n",
       "      <td>69</td>\n",
       "      <td>90</td>\n",
       "      <td>88</td>\n",
       "    </tr>\n",
       "    <tr>\n",
       "      <th>2</th>\n",
       "      <td>female</td>\n",
       "      <td>group B</td>\n",
       "      <td>master's degree</td>\n",
       "      <td>standard</td>\n",
       "      <td>none</td>\n",
       "      <td>90</td>\n",
       "      <td>95</td>\n",
       "      <td>93</td>\n",
       "    </tr>\n",
       "    <tr>\n",
       "      <th>3</th>\n",
       "      <td>male</td>\n",
       "      <td>group A</td>\n",
       "      <td>associate's degree</td>\n",
       "      <td>free/reduced</td>\n",
       "      <td>none</td>\n",
       "      <td>47</td>\n",
       "      <td>57</td>\n",
       "      <td>44</td>\n",
       "    </tr>\n",
       "    <tr>\n",
       "      <th>4</th>\n",
       "      <td>male</td>\n",
       "      <td>group C</td>\n",
       "      <td>some college</td>\n",
       "      <td>standard</td>\n",
       "      <td>none</td>\n",
       "      <td>76</td>\n",
       "      <td>78</td>\n",
       "      <td>75</td>\n",
       "    </tr>\n",
       "  </tbody>\n",
       "</table>\n",
       "</div>"
      ],
      "text/plain": [
       "   gender race_ethnicity parental_level_of_education         lunch  \\\n",
       "0  female        group B           bachelor's degree      standard   \n",
       "1  female        group C                some college      standard   \n",
       "2  female        group B             master's degree      standard   \n",
       "3    male        group A          associate's degree  free/reduced   \n",
       "4    male        group C                some college      standard   \n",
       "\n",
       "  test_preparation_course  math_score  reading_score  writing_score  \n",
       "0                    none          72             72             74  \n",
       "1               completed          69             90             88  \n",
       "2                    none          90             95             93  \n",
       "3                    none          47             57             44  \n",
       "4                    none          76             78             75  "
      ]
     },
     "execution_count": 24,
     "metadata": {},
     "output_type": "execute_result"
    }
   ],
   "source": [
    "#Create Student Performance Dataframe\n",
    "sp_df = pd.read_csv('data/stud.csv')\n",
    "\n",
    "#View Dataframe \n",
    "sp_df.head()"
   ]
  },
  {
   "cell_type": "code",
   "execution_count": 25,
   "id": "ef07c849",
   "metadata": {},
   "outputs": [
    {
     "data": {
      "text/plain": [
       "(1000, 8)"
      ]
     },
     "execution_count": 25,
     "metadata": {},
     "output_type": "execute_result"
    }
   ],
   "source": [
    "#View Dataframe Shape\n",
    "sp_df.shape"
   ]
  },
  {
   "cell_type": "markdown",
   "id": "ca58fe70",
   "metadata": {},
   "source": [
    "## 2.2) Dataset Information "
   ]
  },
  {
   "cell_type": "markdown",
   "id": "daaa1601",
   "metadata": {},
   "source": [
    "* gender: Sex of Student -> (male/female)\n",
    "* race_ethnicity: Ethnicity of the Student -> (Group A, B, C, D, E)\n",
    "* parental_level_of_education: Parent's highest education completed -> (master's degree, bachelor's degree, associate's degree, some college, high school)\n",
    "* lunch: Type of lunch -> (standard, free/reduced)\n",
    "* test_preparation_course: supplemental material completion -> (completed, none)\n",
    "* math_score\n",
    "* reading_score\n",
    "* writing_score  "
   ]
  },
  {
   "cell_type": "markdown",
   "id": "8f0b77e2",
   "metadata": {},
   "source": [
    "## 3.) Data Validation"
   ]
  },
  {
   "cell_type": "markdown",
   "id": "0c7c5255",
   "metadata": {},
   "source": [
    "* Check missing values\n",
    "* Check duplicates\n",
    "* Check data types\n",
    "* Check the number of unique values in each column\n",
    "* Check statistics of the dataset\n",
    "* Check various categories present in the columns "
   ]
  },
  {
   "cell_type": "markdown",
   "id": "d6a721d8",
   "metadata": {},
   "source": [
    "## 3.1.) Check for Missing Values"
   ]
  },
  {
   "cell_type": "code",
   "execution_count": 26,
   "id": "7c01a8ff",
   "metadata": {},
   "outputs": [
    {
     "data": {
      "text/plain": [
       "gender                         0\n",
       "race_ethnicity                 0\n",
       "parental_level_of_education    0\n",
       "lunch                          0\n",
       "test_preparation_course        0\n",
       "math_score                     0\n",
       "reading_score                  0\n",
       "writing_score                  0\n",
       "dtype: int64"
      ]
     },
     "execution_count": 26,
     "metadata": {},
     "output_type": "execute_result"
    }
   ],
   "source": [
    "#Count the amount of missing values\n",
    "sp_df.isna().sum()"
   ]
  },
  {
   "cell_type": "markdown",
   "id": "5ccb96ac",
   "metadata": {},
   "source": [
    "* There are no missing values in the dataset"
   ]
  },
  {
   "cell_type": "markdown",
   "id": "c8578bd1",
   "metadata": {},
   "source": [
    "## 3.2.) Check for Duplicate Values"
   ]
  },
  {
   "cell_type": "code",
   "execution_count": 27,
   "id": "4ddb9f9b",
   "metadata": {},
   "outputs": [
    {
     "data": {
      "text/plain": [
       "0"
      ]
     },
     "execution_count": 27,
     "metadata": {},
     "output_type": "execute_result"
    }
   ],
   "source": [
    "#Count the amount of duplicate values\n",
    "sp_df.duplicated().sum()"
   ]
  },
  {
   "cell_type": "markdown",
   "id": "4c2fd0a2",
   "metadata": {},
   "source": [
    "* There are no duplicate values in the dataset"
   ]
  },
  {
   "cell_type": "markdown",
   "id": "d07adc44",
   "metadata": {},
   "source": [
    "## 3.3.) Check Data Types"
   ]
  },
  {
   "cell_type": "code",
   "execution_count": 28,
   "id": "5883d304",
   "metadata": {},
   "outputs": [
    {
     "name": "stdout",
     "output_type": "stream",
     "text": [
      "<class 'pandas.core.frame.DataFrame'>\n",
      "RangeIndex: 1000 entries, 0 to 999\n",
      "Data columns (total 8 columns):\n",
      " #   Column                       Non-Null Count  Dtype \n",
      "---  ------                       --------------  ----- \n",
      " 0   gender                       1000 non-null   object\n",
      " 1   race_ethnicity               1000 non-null   object\n",
      " 2   parental_level_of_education  1000 non-null   object\n",
      " 3   lunch                        1000 non-null   object\n",
      " 4   test_preparation_course      1000 non-null   object\n",
      " 5   math_score                   1000 non-null   int64 \n",
      " 6   reading_score                1000 non-null   int64 \n",
      " 7   writing_score                1000 non-null   int64 \n",
      "dtypes: int64(3), object(5)\n",
      "memory usage: 62.6+ KB\n"
     ]
    }
   ],
   "source": [
    "#Check for null values, and the data types in the dataset\n",
    "sp_df.info()"
   ]
  },
  {
   "cell_type": "markdown",
   "id": "e2d5ff63",
   "metadata": {},
   "source": [
    "* There are no null values in the dataset"
   ]
  },
  {
   "cell_type": "markdown",
   "id": "6ca742be",
   "metadata": {},
   "source": [
    "## 3.4.) Check the number of Unique Values in the Dataset's columns"
   ]
  },
  {
   "cell_type": "code",
   "execution_count": 29,
   "id": "9a7567d6",
   "metadata": {},
   "outputs": [
    {
     "data": {
      "text/plain": [
       "gender                          2\n",
       "race_ethnicity                  5\n",
       "parental_level_of_education     6\n",
       "lunch                           2\n",
       "test_preparation_course         2\n",
       "math_score                     81\n",
       "reading_score                  72\n",
       "writing_score                  77\n",
       "dtype: int64"
      ]
     },
     "execution_count": 29,
     "metadata": {},
     "output_type": "execute_result"
    }
   ],
   "source": [
    "#Check dataset for unique values\n",
    "sp_df.nunique()"
   ]
  },
  {
   "cell_type": "markdown",
   "id": "60baba4b",
   "metadata": {},
   "source": [
    "## 3.5.) Check the Statistics of the Dataset"
   ]
  },
  {
   "cell_type": "code",
   "execution_count": 30,
   "id": "65759b1c",
   "metadata": {},
   "outputs": [
    {
     "data": {
      "text/html": [
       "<div>\n",
       "<style scoped>\n",
       "    .dataframe tbody tr th:only-of-type {\n",
       "        vertical-align: middle;\n",
       "    }\n",
       "\n",
       "    .dataframe tbody tr th {\n",
       "        vertical-align: top;\n",
       "    }\n",
       "\n",
       "    .dataframe thead th {\n",
       "        text-align: right;\n",
       "    }\n",
       "</style>\n",
       "<table border=\"1\" class=\"dataframe\">\n",
       "  <thead>\n",
       "    <tr style=\"text-align: right;\">\n",
       "      <th></th>\n",
       "      <th>math_score</th>\n",
       "      <th>reading_score</th>\n",
       "      <th>writing_score</th>\n",
       "    </tr>\n",
       "  </thead>\n",
       "  <tbody>\n",
       "    <tr>\n",
       "      <th>count</th>\n",
       "      <td>1000.00000</td>\n",
       "      <td>1000.000000</td>\n",
       "      <td>1000.000000</td>\n",
       "    </tr>\n",
       "    <tr>\n",
       "      <th>mean</th>\n",
       "      <td>66.08900</td>\n",
       "      <td>69.169000</td>\n",
       "      <td>68.054000</td>\n",
       "    </tr>\n",
       "    <tr>\n",
       "      <th>std</th>\n",
       "      <td>15.16308</td>\n",
       "      <td>14.600192</td>\n",
       "      <td>15.195657</td>\n",
       "    </tr>\n",
       "    <tr>\n",
       "      <th>min</th>\n",
       "      <td>0.00000</td>\n",
       "      <td>17.000000</td>\n",
       "      <td>10.000000</td>\n",
       "    </tr>\n",
       "    <tr>\n",
       "      <th>25%</th>\n",
       "      <td>57.00000</td>\n",
       "      <td>59.000000</td>\n",
       "      <td>57.750000</td>\n",
       "    </tr>\n",
       "    <tr>\n",
       "      <th>50%</th>\n",
       "      <td>66.00000</td>\n",
       "      <td>70.000000</td>\n",
       "      <td>69.000000</td>\n",
       "    </tr>\n",
       "    <tr>\n",
       "      <th>75%</th>\n",
       "      <td>77.00000</td>\n",
       "      <td>79.000000</td>\n",
       "      <td>79.000000</td>\n",
       "    </tr>\n",
       "    <tr>\n",
       "      <th>max</th>\n",
       "      <td>100.00000</td>\n",
       "      <td>100.000000</td>\n",
       "      <td>100.000000</td>\n",
       "    </tr>\n",
       "  </tbody>\n",
       "</table>\n",
       "</div>"
      ],
      "text/plain": [
       "       math_score  reading_score  writing_score\n",
       "count  1000.00000    1000.000000    1000.000000\n",
       "mean     66.08900      69.169000      68.054000\n",
       "std      15.16308      14.600192      15.195657\n",
       "min       0.00000      17.000000      10.000000\n",
       "25%      57.00000      59.000000      57.750000\n",
       "50%      66.00000      70.000000      69.000000\n",
       "75%      77.00000      79.000000      79.000000\n",
       "max     100.00000     100.000000     100.000000"
      ]
     },
     "execution_count": 30,
     "metadata": {},
     "output_type": "execute_result"
    }
   ],
   "source": [
    "#Check basic stats of the dataset\n",
    "sp_df.describe()"
   ]
  },
  {
   "cell_type": "markdown",
   "id": "360cd4f1",
   "metadata": {},
   "source": [
    "## Insights"
   ]
  },
  {
   "cell_type": "markdown",
   "id": "ca04ba86",
   "metadata": {},
   "source": [
    "* From the description above of the numerical data, all means are very similar - between 65 and 68.05;\n",
    "* All standard deviations are also very similar - between 14.6 and 15.19;\n",
    "* While there is a minimum score of 0 for the math portion of the exam, the minimum socre for the writing portion is 10, and 17 for the reading portion of the exam"
   ]
  },
  {
   "cell_type": "markdown",
   "id": "b951c8e2",
   "metadata": {},
   "source": [
    "## 3.6) Exploring the Data"
   ]
  },
  {
   "cell_type": "code",
   "execution_count": 31,
   "id": "d6159190",
   "metadata": {},
   "outputs": [
    {
     "name": "stdout",
     "output_type": "stream",
     "text": [
      "Categories in 'gender' variables:     ['female' 'male']\n",
      "Categories in 'race_ethnicity' variables:     ['group B' 'group C' 'group A' 'group D' 'group E']\n",
      "Categories in 'parental_level_of_education' variables:     [\"bachelor's degree\" 'some college' \"master's degree\" \"associate's degree\"\n",
      " 'high school' 'some high school']\n",
      "Categories in 'lunch' variables:     ['standard' 'free/reduced']\n",
      "Categories in 'test_preparation_course' variables:     ['none' 'completed']\n"
     ]
    }
   ],
   "source": [
    "#View gender categories in the dataset\n",
    "print(\"Categories in 'gender' variables:    \", end = \" \")\n",
    "print(sp_df['gender'].unique())\n",
    "\n",
    "#View race categories in the dataset\n",
    "print(\"Categories in 'race_ethnicity' variables:    \", end = \" \")\n",
    "print(sp_df['race_ethnicity'].unique())\n",
    "\n",
    "#View parental education categories in the dataset\n",
    "print(\"Categories in 'parental_level_of_education' variables:    \", end = \" \")\n",
    "print(sp_df['parental_level_of_education'].unique())\n",
    "\n",
    "#View lunch categories in the dataset\n",
    "print(\"Categories in 'lunch' variables:    \", end = \" \")\n",
    "print(sp_df['lunch'].unique())\n",
    "\n",
    "#View test prep categories in the dataset\n",
    "print(\"Categories in 'test_preparation_course' variables:    \", end = \" \")\n",
    "print(sp_df['test_preparation_course'].unique())"
   ]
  },
  {
   "cell_type": "code",
   "execution_count": 32,
   "id": "f9534767",
   "metadata": {},
   "outputs": [
    {
     "name": "stdout",
     "output_type": "stream",
     "text": [
      "There are 3 numerical features: ['math_score', 'reading_score', 'writing_score']\n",
      "There are 5 categorical features: ['gender', 'race_ethnicity', 'parental_level_of_education', 'lunch', 'test_preparation_course']\n"
     ]
    }
   ],
   "source": [
    "#Define numerical and Categorical columns in dataset\n",
    "numeric_features = [feature for feature in sp_df.columns if sp_df[feature].dtype != 'O']\n",
    "categorical_features = [feature for feature in sp_df.columns if sp_df[feature].dtype == 'O']\n",
    "\n",
    "#View numerical and categorical columns in dataset\n",
    "print(\"There are {} numerical features: {}\".format(len(numeric_features), numeric_features))\n",
    "print(\"There are {} categorical features: {}\".format(len(categorical_features), categorical_features))"
   ]
  },
  {
   "cell_type": "markdown",
   "id": "f67aec0a",
   "metadata": {},
   "source": [
    "## 3.7.) Creating Total score and Average Columns"
   ]
  },
  {
   "cell_type": "code",
   "execution_count": 33,
   "id": "16726311",
   "metadata": {},
   "outputs": [
    {
     "data": {
      "text/html": [
       "<div>\n",
       "<style scoped>\n",
       "    .dataframe tbody tr th:only-of-type {\n",
       "        vertical-align: middle;\n",
       "    }\n",
       "\n",
       "    .dataframe tbody tr th {\n",
       "        vertical-align: top;\n",
       "    }\n",
       "\n",
       "    .dataframe thead th {\n",
       "        text-align: right;\n",
       "    }\n",
       "</style>\n",
       "<table border=\"1\" class=\"dataframe\">\n",
       "  <thead>\n",
       "    <tr style=\"text-align: right;\">\n",
       "      <th></th>\n",
       "      <th>gender</th>\n",
       "      <th>race_ethnicity</th>\n",
       "      <th>parental_level_of_education</th>\n",
       "      <th>lunch</th>\n",
       "      <th>test_preparation_course</th>\n",
       "      <th>math_score</th>\n",
       "      <th>reading_score</th>\n",
       "      <th>writing_score</th>\n",
       "      <th>total_score</th>\n",
       "      <th>average</th>\n",
       "    </tr>\n",
       "  </thead>\n",
       "  <tbody>\n",
       "    <tr>\n",
       "      <th>0</th>\n",
       "      <td>female</td>\n",
       "      <td>group B</td>\n",
       "      <td>bachelor's degree</td>\n",
       "      <td>standard</td>\n",
       "      <td>none</td>\n",
       "      <td>72</td>\n",
       "      <td>72</td>\n",
       "      <td>74</td>\n",
       "      <td>218</td>\n",
       "      <td>72.666667</td>\n",
       "    </tr>\n",
       "    <tr>\n",
       "      <th>1</th>\n",
       "      <td>female</td>\n",
       "      <td>group C</td>\n",
       "      <td>some college</td>\n",
       "      <td>standard</td>\n",
       "      <td>completed</td>\n",
       "      <td>69</td>\n",
       "      <td>90</td>\n",
       "      <td>88</td>\n",
       "      <td>247</td>\n",
       "      <td>82.333333</td>\n",
       "    </tr>\n",
       "    <tr>\n",
       "      <th>2</th>\n",
       "      <td>female</td>\n",
       "      <td>group B</td>\n",
       "      <td>master's degree</td>\n",
       "      <td>standard</td>\n",
       "      <td>none</td>\n",
       "      <td>90</td>\n",
       "      <td>95</td>\n",
       "      <td>93</td>\n",
       "      <td>278</td>\n",
       "      <td>92.666667</td>\n",
       "    </tr>\n",
       "    <tr>\n",
       "      <th>3</th>\n",
       "      <td>male</td>\n",
       "      <td>group A</td>\n",
       "      <td>associate's degree</td>\n",
       "      <td>free/reduced</td>\n",
       "      <td>none</td>\n",
       "      <td>47</td>\n",
       "      <td>57</td>\n",
       "      <td>44</td>\n",
       "      <td>148</td>\n",
       "      <td>49.333333</td>\n",
       "    </tr>\n",
       "    <tr>\n",
       "      <th>4</th>\n",
       "      <td>male</td>\n",
       "      <td>group C</td>\n",
       "      <td>some college</td>\n",
       "      <td>standard</td>\n",
       "      <td>none</td>\n",
       "      <td>76</td>\n",
       "      <td>78</td>\n",
       "      <td>75</td>\n",
       "      <td>229</td>\n",
       "      <td>76.333333</td>\n",
       "    </tr>\n",
       "  </tbody>\n",
       "</table>\n",
       "</div>"
      ],
      "text/plain": [
       "   gender race_ethnicity parental_level_of_education         lunch  \\\n",
       "0  female        group B           bachelor's degree      standard   \n",
       "1  female        group C                some college      standard   \n",
       "2  female        group B             master's degree      standard   \n",
       "3    male        group A          associate's degree  free/reduced   \n",
       "4    male        group C                some college      standard   \n",
       "\n",
       "  test_preparation_course  math_score  reading_score  writing_score  \\\n",
       "0                    none          72             72             74   \n",
       "1               completed          69             90             88   \n",
       "2                    none          90             95             93   \n",
       "3                    none          47             57             44   \n",
       "4                    none          76             78             75   \n",
       "\n",
       "   total_score    average  \n",
       "0          218  72.666667  \n",
       "1          247  82.333333  \n",
       "2          278  92.666667  \n",
       "3          148  49.333333  \n",
       "4          229  76.333333  "
      ]
     },
     "execution_count": 33,
     "metadata": {},
     "output_type": "execute_result"
    }
   ],
   "source": [
    "#Create total score column\n",
    "sp_df['total_score'] = sp_df['math_score'] + sp_df['reading_score'] + sp_df['writing_score']\n",
    "\n",
    "#Create average column\n",
    "sp_df['average'] = sp_df['total_score'] / 3\n",
    "\n",
    "#View updated dataframe \n",
    "sp_df.head()"
   ]
  },
  {
   "cell_type": "markdown",
   "id": "3ede5f3e",
   "metadata": {},
   "source": [
    "## 3.8.) Explore test statistics"
   ]
  },
  {
   "cell_type": "code",
   "execution_count": 34,
   "id": "2cf55f86",
   "metadata": {},
   "outputs": [
    {
     "name": "stdout",
     "output_type": "stream",
     "text": [
      "Number of Students with perfect scores in math: 7\n",
      "Number of Students with perfect scores in reading: 17\n",
      "Number of Students with perfect scores in writing: 14\n"
     ]
    }
   ],
   "source": [
    "#Check the amount of students who recieved perfect test scores\n",
    "math_perf = sp_df[sp_df['math_score'] == 100]['average'].count()\n",
    "reading_perf = sp_df[sp_df['reading_score'] == 100]['average'].count()\n",
    "writing_perf = sp_df[sp_df['writing_score'] == 100]['average'].count()\n",
    "\n",
    "#View the amount of Students who recieved perfect test scores\n",
    "print(f'Number of Students with perfect scores in math: {math_perf}')\n",
    "print(f'Number of Students with perfect scores in reading: {reading_perf}')\n",
    "print(f'Number of Students with perfect scores in writing: {writing_perf}')"
   ]
  },
  {
   "cell_type": "code",
   "execution_count": 36,
   "id": "92e444e4",
   "metadata": {},
   "outputs": [
    {
     "name": "stdout",
     "output_type": "stream",
     "text": [
      "Number of Students with math scores of 20 or less: 4\n",
      "Numner of students with reading scores of 20 or less: 1\n",
      "Number of Students with writing scores of 20 or less: 3\n"
     ]
    }
   ],
   "source": [
    "#Check the amount of students who recieved 20 or less on test scores\n",
    "math_20 = sp_df[sp_df['math_score'] <= 20]['average'].count()\n",
    "reading_20 = sp_df[sp_df['reading_score'] <= 20]['average'].count()\n",
    "writing_20 = sp_df[sp_df['writing_score'] <= 20]['average'].count()\n",
    "\n",
    "#View the amount of students who recieved 20 or less on test scores\n",
    "print(f'Number of Students with math scores of 20 or less: {math_20}')\n",
    "print(f'Numner of students with reading scores of 20 or less: {reading_20}')\n",
    "print(f'Number of Students with writing scores of 20 or less: {writing_20}')"
   ]
  },
  {
   "cell_type": "markdown",
   "id": "b9965fae",
   "metadata": {},
   "source": [
    "## Insights"
   ]
  },
  {
   "cell_type": "markdown",
   "id": "f35b33bd",
   "metadata": {},
   "source": [
    "* From the values above we can conclude that students performed worse in math than in reading, and writing;\n",
    "* We can also conclude that the best performance was seen in the reading portion of the exam"
   ]
  },
  {
   "cell_type": "markdown",
   "id": "9365f31e",
   "metadata": {},
   "source": [
    "## 4.) Data Visualization "
   ]
  },
  {
   "cell_type": "markdown",
   "id": "2454736e",
   "metadata": {},
   "source": [
    "## 4.1.) Visualize Average Score Distribution to Draw Conclusions "
   ]
  },
  {
   "cell_type": "markdown",
   "id": "a551a650",
   "metadata": {},
   "source": [
    "* Create a Histogram \n",
    "* Create Kernel Distribution Function (KDE)"
   ]
  },
  {
   "cell_type": "code",
   "execution_count": null,
   "id": "97fff655",
   "metadata": {},
   "outputs": [],
   "source": [
    "#Create histogram visualization\n"
   ]
  }
 ],
 "metadata": {
  "kernelspec": {
   "display_name": "Python 3 (ipykernel)",
   "language": "python",
   "name": "python3"
  },
  "language_info": {
   "codemirror_mode": {
    "name": "ipython",
    "version": 3
   },
   "file_extension": ".py",
   "mimetype": "text/x-python",
   "name": "python",
   "nbconvert_exporter": "python",
   "pygments_lexer": "ipython3",
   "version": "3.12.0"
  }
 },
 "nbformat": 4,
 "nbformat_minor": 5
}
